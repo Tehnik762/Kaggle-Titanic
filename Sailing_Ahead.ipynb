{
 "cells": [
  {
   "cell_type": "code",
   "execution_count": 14,
   "id": "03355cee",
   "metadata": {},
   "outputs": [],
   "source": [
    "import pandas as pd\n",
    "from sklearn.model_selection import train_test_split\n",
    "from sklearn.impute import SimpleImputer\n",
    "from sklearn.model_selection import GridSearchCV\n",
    "from sklearn.pipeline import make_pipeline\n",
    "from sklearn.compose import make_column_transformer\n",
    "from sklearn.preprocessing import OneHotEncoder\n",
    "import multiprocessing\n",
    "from sklearn.ensemble import RandomForestClassifier\n",
    "from sklearn.compose import ColumnTransformer\n"
   ]
  },
  {
   "cell_type": "code",
   "execution_count": 2,
   "id": "729d9b0d",
   "metadata": {},
   "outputs": [],
   "source": [
    "titanic = pd.read_csv(\"train.csv\")"
   ]
  },
  {
   "cell_type": "code",
   "execution_count": 3,
   "id": "9280ffe3",
   "metadata": {},
   "outputs": [],
   "source": [
    "titanic_pid = titanic.pop(\"PassengerId\")"
   ]
  },
  {
   "cell_type": "markdown",
   "id": "761d6648",
   "metadata": {},
   "source": [
    "### Let's create some usefull functions"
   ]
  },
  {
   "cell_type": "code",
   "execution_count": 10,
   "id": "9a99ce7a",
   "metadata": {},
   "outputs": [],
   "source": [
    "def prepareData(titanic):\n",
    "    titanic = titanic.copy()\n",
    "    titanic[\"prefix\"] = titanic.Name.str.extract(\"([a-zA-Z]+\\.)\")\n",
    "    mean_age ={}\n",
    "    for age in titanic.prefix.unique():\n",
    "        mean_age[age] = titanic.loc[(titanic.prefix == age) & titanic.Age.notna(), \"Age\"].mean()\n",
    "    titanic[\"Age\"] = titanic[\"Age\"].fillna(titanic[\"prefix\"].map(mean_age))\n",
    "    titanic['Cletter'] = titanic['Cabin'].str.extract('([A-Za-z]+)', expand=False)\n",
    "    titanic['СNumber'] = titanic['Cabin'].str.extract('(\\d+)', expand=False)\n",
    "    titanic['СNumber'] = pd.to_numeric(titanic.СNumber)\n",
    "    titanic['Cletter'] = titanic.groupby('prefix')['Cletter'].transform(lambda x: x.fillna(x.mode().iloc[0] if not x.mode().empty else \"N_A\"))\n",
    "    titanic['СNumber'] = titanic.groupby('prefix')['СNumber'].transform(lambda x: x.fillna(x.mode().iloc[0] if not x.mode().empty else 0))\n",
    "    titanic = titanic.drop(columns=[\"Cabin\"])\n",
    "    titanic['Embarked'].fillna(titanic['Embarked'].mode().iloc[0], inplace=True)\n",
    "    titanic.Sex = titanic.Sex.transform(lambda x: 1 if x == \"male\" else 0)\n",
    "    titanic.Sex = pd.to_numeric(titanic.Sex)\n",
    "    titanic.Ticket = titanic.Ticket.str.extract(\"(\\d+)\")\n",
    "    titanic.Ticket = pd.to_numeric(titanic.Ticket)\n",
    "    titanic[\"parenthesis\"] = titanic.Name.str.contains(\"\\(\")\n",
    "    titanic[\"isAlone\"] =  (titanic.SibSp == 0) & (titanic.Parch == 0)\n",
    "    titanic = titanic.drop(columns=[\"Name\"])\n",
    "    return titanic"
   ]
  },
  {
   "cell_type": "code",
   "execution_count": 11,
   "id": "3319e78f",
   "metadata": {},
   "outputs": [],
   "source": [
    "def makeAtest(file, model, result=\"res.csv\"):\n",
    "    test = pd.read_csv(file)\n",
    "    ids = test.pop(\"PassengerId\")\n",
    "    test = prepareData(test)\n",
    "    y_pred = model.predict(test)\n",
    "    test[\"PassengerId\"] = ids\n",
    "    test[\"Survived\"] = y_pred\n",
    "    test[[\"PassengerId\", \"Survived\"]].to_csv(result, index=False)"
   ]
  },
  {
   "cell_type": "code",
   "execution_count": 12,
   "id": "c88e5e38",
   "metadata": {},
   "outputs": [],
   "source": [
    "titanic = prepareData(titanic)"
   ]
  },
  {
   "cell_type": "code",
   "execution_count": 13,
   "id": "413e379b",
   "metadata": {},
   "outputs": [
    {
     "data": {
      "text/plain": [
       "Survived       0\n",
       "Pclass         0\n",
       "Sex            0\n",
       "Age            0\n",
       "SibSp          0\n",
       "Parch          0\n",
       "Ticket         4\n",
       "Fare           0\n",
       "Embarked       0\n",
       "prefix         0\n",
       "Cletter        0\n",
       "СNumber        0\n",
       "parenthesis    0\n",
       "isAlone        0\n",
       "dtype: int64"
      ]
     },
     "execution_count": 13,
     "metadata": {},
     "output_type": "execute_result"
    }
   ],
   "source": [
    "titanic.isna().sum()"
   ]
  },
  {
   "cell_type": "markdown",
   "id": "ab08b6be",
   "metadata": {},
   "source": [
    "### It is time for Forest"
   ]
  },
  {
   "cell_type": "code",
   "execution_count": 15,
   "id": "46665cc7",
   "metadata": {},
   "outputs": [],
   "source": [
    "y = titanic.pop(\"Survived\")"
   ]
  },
  {
   "cell_type": "code",
   "execution_count": 16,
   "id": "5f4cb4c8",
   "metadata": {},
   "outputs": [],
   "source": [
    "X_train, X_test, y_train, y_test = train_test_split(titanic, y,test_size=.2,random_state = 42)"
   ]
  },
  {
   "cell_type": "code",
   "execution_count": 17,
   "id": "d4e55e2f",
   "metadata": {},
   "outputs": [],
   "source": [
    "X_cat = titanic.select_dtypes(exclude=\"number\").copy()\n",
    "X_num = titanic.select_dtypes(include=\"number\").copy()"
   ]
  },
  {
   "cell_type": "code",
   "execution_count": 18,
   "id": "29f1106d",
   "metadata": {},
   "outputs": [],
   "source": [
    "numeric_pipe = make_pipeline(\n",
    "    SimpleImputer())\n",
    "\n",
    "categoric_pipe = make_pipeline(\n",
    "    SimpleImputer(strategy=\"constant\", fill_value=\"N_A\"),\n",
    "    OneHotEncoder(handle_unknown=\"ignore\")\n",
    ")\n",
    "\n",
    "preprocessor = ColumnTransformer(\n",
    "    transformers=[\n",
    "        (\"num_pipe\", numeric_pipe, X_num.columns),\n",
    "        (\"cat_pipe\", categoric_pipe, X_cat.columns),\n",
    "    ]\n",
    ")"
   ]
  },
  {
   "cell_type": "code",
   "execution_count": 19,
   "id": "504c13b1",
   "metadata": {},
   "outputs": [],
   "source": [
    "full_pipeline = make_pipeline(preprocessor,\n",
    "                              RandomForestClassifier())\n"
   ]
  },
  {
   "cell_type": "code",
   "execution_count": 20,
   "id": "8055f59b",
   "metadata": {},
   "outputs": [],
   "source": [
    "param_grid = {\n",
    "    \"randomforestclassifier__criterion\":[\"gini\"],\n",
    "    \"randomforestclassifier__min_samples_split\" : range(2,10),\n",
    "    \"randomforestclassifier__min_samples_leaf\" : range(1,10),\n",
    "    \"randomforestclassifier__n_estimators\": range(150,300,20)\n",
    "}\n"
   ]
  },
  {
   "cell_type": "code",
   "execution_count": 21,
   "id": "673c3cf0",
   "metadata": {},
   "outputs": [],
   "source": [
    "searchRF = GridSearchCV(full_pipeline,\n",
    "                      param_grid,\n",
    "                      cv=10,\n",
    "                      verbose=1,\n",
    "                      n_jobs=multiprocessing.cpu_count()-1)"
   ]
  },
  {
   "cell_type": "code",
   "execution_count": null,
   "id": "225e3f06",
   "metadata": {},
   "outputs": [
    {
     "name": "stdout",
     "output_type": "stream",
     "text": [
      "Fitting 10 folds for each of 576 candidates, totalling 5760 fits\n"
     ]
    }
   ],
   "source": [
    "searchRF.fit(X_train, y_train)"
   ]
  },
  {
   "cell_type": "markdown",
   "id": "73db3c7f",
   "metadata": {},
   "source": [
    "### Saving result"
   ]
  },
  {
   "cell_type": "code",
   "execution_count": null,
   "id": "adf2fb28",
   "metadata": {},
   "outputs": [],
   "source": [
    "makeAtest(\"test.csv\", searchRF, \"RF_CV_5760.csv\")"
   ]
  },
  {
   "cell_type": "code",
   "execution_count": null,
   "id": "786f043c",
   "metadata": {},
   "outputs": [],
   "source": []
  }
 ],
 "metadata": {
  "kernelspec": {
   "display_name": "Python 3 (ipykernel)",
   "language": "python",
   "name": "python3"
  },
  "language_info": {
   "codemirror_mode": {
    "name": "ipython",
    "version": 3
   },
   "file_extension": ".py",
   "mimetype": "text/x-python",
   "name": "python",
   "nbconvert_exporter": "python",
   "pygments_lexer": "ipython3",
   "version": "3.11.6"
  }
 },
 "nbformat": 4,
 "nbformat_minor": 5
}
